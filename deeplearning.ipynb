{
  "nbformat": 4,
  "nbformat_minor": 0,
  "metadata": {
    "colab": {
      "provenance": [],
      "gpuType": "T4",
      "authorship_tag": "ABX9TyM02lSDPCewhFlkHLlIxWhc",
      "include_colab_link": true
    },
    "kernelspec": {
      "name": "python3",
      "display_name": "Python 3"
    },
    "language_info": {
      "name": "python"
    },
    "accelerator": "GPU"
  },
  "cells": [
    {
      "cell_type": "markdown",
      "metadata": {
        "id": "view-in-github",
        "colab_type": "text"
      },
      "source": [
        "<a href=\"https://colab.research.google.com/github/tck369/1/blob/main/deeplearning.ipynb\" target=\"_parent\"><img src=\"https://colab.research.google.com/assets/colab-badge.svg\" alt=\"Open In Colab\"/></a>"
      ]
    },
    {
      "cell_type": "code",
      "source": [
        "!pip install optuna\n"
      ],
      "metadata": {
        "colab": {
          "base_uri": "https://localhost:8080/"
        },
        "id": "peJFRoqhdhB5",
        "outputId": "730ffa3a-0052-4436-dc9a-13f0747cf1e3"
      },
      "execution_count": 5,
      "outputs": [
        {
          "output_type": "stream",
          "name": "stdout",
          "text": [
            "Collecting optuna\n",
            "  Downloading optuna-4.2.1-py3-none-any.whl.metadata (17 kB)\n",
            "Collecting alembic>=1.5.0 (from optuna)\n",
            "  Downloading alembic-1.15.1-py3-none-any.whl.metadata (7.2 kB)\n",
            "Collecting colorlog (from optuna)\n",
            "  Downloading colorlog-6.9.0-py3-none-any.whl.metadata (10 kB)\n",
            "Requirement already satisfied: numpy in /usr/local/lib/python3.11/dist-packages (from optuna) (2.0.2)\n",
            "Requirement already satisfied: packaging>=20.0 in /usr/local/lib/python3.11/dist-packages (from optuna) (24.2)\n",
            "Requirement already satisfied: sqlalchemy>=1.4.2 in /usr/local/lib/python3.11/dist-packages (from optuna) (2.0.39)\n",
            "Requirement already satisfied: tqdm in /usr/local/lib/python3.11/dist-packages (from optuna) (4.67.1)\n",
            "Requirement already satisfied: PyYAML in /usr/local/lib/python3.11/dist-packages (from optuna) (6.0.2)\n",
            "Requirement already satisfied: Mako in /usr/lib/python3/dist-packages (from alembic>=1.5.0->optuna) (1.1.3)\n",
            "Requirement already satisfied: typing-extensions>=4.12 in /usr/local/lib/python3.11/dist-packages (from alembic>=1.5.0->optuna) (4.12.2)\n",
            "Requirement already satisfied: greenlet!=0.4.17 in /usr/local/lib/python3.11/dist-packages (from sqlalchemy>=1.4.2->optuna) (3.1.1)\n",
            "Downloading optuna-4.2.1-py3-none-any.whl (383 kB)\n",
            "\u001b[2K   \u001b[90m━━━━━━━━━━━━━━━━━━━━━━━━━━━━━━━━━━━━━━━━\u001b[0m \u001b[32m383.6/383.6 kB\u001b[0m \u001b[31m12.5 MB/s\u001b[0m eta \u001b[36m0:00:00\u001b[0m\n",
            "\u001b[?25hDownloading alembic-1.15.1-py3-none-any.whl (231 kB)\n",
            "\u001b[2K   \u001b[90m━━━━━━━━━━━━━━━━━━━━━━━━━━━━━━━━━━━━━━━━\u001b[0m \u001b[32m231.8/231.8 kB\u001b[0m \u001b[31m19.0 MB/s\u001b[0m eta \u001b[36m0:00:00\u001b[0m\n",
            "\u001b[?25hDownloading colorlog-6.9.0-py3-none-any.whl (11 kB)\n",
            "Installing collected packages: colorlog, alembic, optuna\n",
            "Successfully installed alembic-1.15.1 colorlog-6.9.0 optuna-4.2.1\n"
          ]
        }
      ]
    },
    {
      "cell_type": "code",
      "source": [
        "from google.colab import files\n",
        "uploaded = files.upload()\n"
      ],
      "metadata": {
        "colab": {
          "base_uri": "https://localhost:8080/",
          "height": 111
        },
        "id": "Pmd2ADbh2uk8",
        "outputId": "119111c6-6930-43b9-8873-05e9b4532986"
      },
      "execution_count": 9,
      "outputs": [
        {
          "output_type": "display_data",
          "data": {
            "text/plain": [
              "<IPython.core.display.HTML object>"
            ],
            "text/html": [
              "\n",
              "     <input type=\"file\" id=\"files-b120cc09-edb3-488a-8743-394cd516e818\" name=\"files[]\" multiple disabled\n",
              "        style=\"border:none\" />\n",
              "     <output id=\"result-b120cc09-edb3-488a-8743-394cd516e818\">\n",
              "      Upload widget is only available when the cell has been executed in the\n",
              "      current browser session. Please rerun this cell to enable.\n",
              "      </output>\n",
              "      <script>// Copyright 2017 Google LLC\n",
              "//\n",
              "// Licensed under the Apache License, Version 2.0 (the \"License\");\n",
              "// you may not use this file except in compliance with the License.\n",
              "// You may obtain a copy of the License at\n",
              "//\n",
              "//      http://www.apache.org/licenses/LICENSE-2.0\n",
              "//\n",
              "// Unless required by applicable law or agreed to in writing, software\n",
              "// distributed under the License is distributed on an \"AS IS\" BASIS,\n",
              "// WITHOUT WARRANTIES OR CONDITIONS OF ANY KIND, either express or implied.\n",
              "// See the License for the specific language governing permissions and\n",
              "// limitations under the License.\n",
              "\n",
              "/**\n",
              " * @fileoverview Helpers for google.colab Python module.\n",
              " */\n",
              "(function(scope) {\n",
              "function span(text, styleAttributes = {}) {\n",
              "  const element = document.createElement('span');\n",
              "  element.textContent = text;\n",
              "  for (const key of Object.keys(styleAttributes)) {\n",
              "    element.style[key] = styleAttributes[key];\n",
              "  }\n",
              "  return element;\n",
              "}\n",
              "\n",
              "// Max number of bytes which will be uploaded at a time.\n",
              "const MAX_PAYLOAD_SIZE = 100 * 1024;\n",
              "\n",
              "function _uploadFiles(inputId, outputId) {\n",
              "  const steps = uploadFilesStep(inputId, outputId);\n",
              "  const outputElement = document.getElementById(outputId);\n",
              "  // Cache steps on the outputElement to make it available for the next call\n",
              "  // to uploadFilesContinue from Python.\n",
              "  outputElement.steps = steps;\n",
              "\n",
              "  return _uploadFilesContinue(outputId);\n",
              "}\n",
              "\n",
              "// This is roughly an async generator (not supported in the browser yet),\n",
              "// where there are multiple asynchronous steps and the Python side is going\n",
              "// to poll for completion of each step.\n",
              "// This uses a Promise to block the python side on completion of each step,\n",
              "// then passes the result of the previous step as the input to the next step.\n",
              "function _uploadFilesContinue(outputId) {\n",
              "  const outputElement = document.getElementById(outputId);\n",
              "  const steps = outputElement.steps;\n",
              "\n",
              "  const next = steps.next(outputElement.lastPromiseValue);\n",
              "  return Promise.resolve(next.value.promise).then((value) => {\n",
              "    // Cache the last promise value to make it available to the next\n",
              "    // step of the generator.\n",
              "    outputElement.lastPromiseValue = value;\n",
              "    return next.value.response;\n",
              "  });\n",
              "}\n",
              "\n",
              "/**\n",
              " * Generator function which is called between each async step of the upload\n",
              " * process.\n",
              " * @param {string} inputId Element ID of the input file picker element.\n",
              " * @param {string} outputId Element ID of the output display.\n",
              " * @return {!Iterable<!Object>} Iterable of next steps.\n",
              " */\n",
              "function* uploadFilesStep(inputId, outputId) {\n",
              "  const inputElement = document.getElementById(inputId);\n",
              "  inputElement.disabled = false;\n",
              "\n",
              "  const outputElement = document.getElementById(outputId);\n",
              "  outputElement.innerHTML = '';\n",
              "\n",
              "  const pickedPromise = new Promise((resolve) => {\n",
              "    inputElement.addEventListener('change', (e) => {\n",
              "      resolve(e.target.files);\n",
              "    });\n",
              "  });\n",
              "\n",
              "  const cancel = document.createElement('button');\n",
              "  inputElement.parentElement.appendChild(cancel);\n",
              "  cancel.textContent = 'Cancel upload';\n",
              "  const cancelPromise = new Promise((resolve) => {\n",
              "    cancel.onclick = () => {\n",
              "      resolve(null);\n",
              "    };\n",
              "  });\n",
              "\n",
              "  // Wait for the user to pick the files.\n",
              "  const files = yield {\n",
              "    promise: Promise.race([pickedPromise, cancelPromise]),\n",
              "    response: {\n",
              "      action: 'starting',\n",
              "    }\n",
              "  };\n",
              "\n",
              "  cancel.remove();\n",
              "\n",
              "  // Disable the input element since further picks are not allowed.\n",
              "  inputElement.disabled = true;\n",
              "\n",
              "  if (!files) {\n",
              "    return {\n",
              "      response: {\n",
              "        action: 'complete',\n",
              "      }\n",
              "    };\n",
              "  }\n",
              "\n",
              "  for (const file of files) {\n",
              "    const li = document.createElement('li');\n",
              "    li.append(span(file.name, {fontWeight: 'bold'}));\n",
              "    li.append(span(\n",
              "        `(${file.type || 'n/a'}) - ${file.size} bytes, ` +\n",
              "        `last modified: ${\n",
              "            file.lastModifiedDate ? file.lastModifiedDate.toLocaleDateString() :\n",
              "                                    'n/a'} - `));\n",
              "    const percent = span('0% done');\n",
              "    li.appendChild(percent);\n",
              "\n",
              "    outputElement.appendChild(li);\n",
              "\n",
              "    const fileDataPromise = new Promise((resolve) => {\n",
              "      const reader = new FileReader();\n",
              "      reader.onload = (e) => {\n",
              "        resolve(e.target.result);\n",
              "      };\n",
              "      reader.readAsArrayBuffer(file);\n",
              "    });\n",
              "    // Wait for the data to be ready.\n",
              "    let fileData = yield {\n",
              "      promise: fileDataPromise,\n",
              "      response: {\n",
              "        action: 'continue',\n",
              "      }\n",
              "    };\n",
              "\n",
              "    // Use a chunked sending to avoid message size limits. See b/62115660.\n",
              "    let position = 0;\n",
              "    do {\n",
              "      const length = Math.min(fileData.byteLength - position, MAX_PAYLOAD_SIZE);\n",
              "      const chunk = new Uint8Array(fileData, position, length);\n",
              "      position += length;\n",
              "\n",
              "      const base64 = btoa(String.fromCharCode.apply(null, chunk));\n",
              "      yield {\n",
              "        response: {\n",
              "          action: 'append',\n",
              "          file: file.name,\n",
              "          data: base64,\n",
              "        },\n",
              "      };\n",
              "\n",
              "      let percentDone = fileData.byteLength === 0 ?\n",
              "          100 :\n",
              "          Math.round((position / fileData.byteLength) * 100);\n",
              "      percent.textContent = `${percentDone}% done`;\n",
              "\n",
              "    } while (position < fileData.byteLength);\n",
              "  }\n",
              "\n",
              "  // All done.\n",
              "  yield {\n",
              "    response: {\n",
              "      action: 'complete',\n",
              "    }\n",
              "  };\n",
              "}\n",
              "\n",
              "scope.google = scope.google || {};\n",
              "scope.google.colab = scope.google.colab || {};\n",
              "scope.google.colab._files = {\n",
              "  _uploadFiles,\n",
              "  _uploadFilesContinue,\n",
              "};\n",
              "})(self);\n",
              "</script> "
            ]
          },
          "metadata": {}
        },
        {
          "output_type": "stream",
          "name": "stdout",
          "text": [
            "Saving sample_submission.csv to sample_submission.csv\n",
            "Saving train.csv to train.csv\n"
          ]
        }
      ]
    },
    {
      "cell_type": "code",
      "source": [
        "import optuna\n",
        "print(\"✅ Optuna 已成功导入，版本:\", optuna.__version__)\n"
      ],
      "metadata": {
        "id": "3rFYKrj3eY1F",
        "colab": {
          "base_uri": "https://localhost:8080/"
        },
        "outputId": "281b1af5-6c26-45d7-9735-f4f1090752bc"
      },
      "execution_count": 6,
      "outputs": [
        {
          "output_type": "stream",
          "name": "stdout",
          "text": [
            "✅ Optuna 已成功导入，版本: 4.2.1\n"
          ]
        }
      ]
    },
    {
      "cell_type": "code",
      "source": [
        "import pandas as pd\n",
        "import numpy as np\n",
        "import torch\n",
        "import torch.nn as nn\n",
        "from torch.utils.data import DataLoader, TensorDataset, random_split\n",
        "from sklearn.preprocessing import StandardScaler\n",
        "from sklearn.metrics import mean_squared_error\n",
        "import optuna\n",
        "import os\n"
      ],
      "metadata": {
        "id": "GetlBuHs62xx"
      },
      "execution_count": 7,
      "outputs": []
    },
    {
      "cell_type": "code",
      "source": [
        "train_df = pd.read_csv('train.csv')\n",
        "submission_df = pd.read_csv('sample_submission.csv')\n"
      ],
      "metadata": {
        "id": "Kb8K3RsN633v"
      },
      "execution_count": 10,
      "outputs": []
    },
    {
      "cell_type": "code",
      "source": [
        "def preprocess_data(df, window_size=30, forecast_horizon=1, split_val=True, val_ratio=0.2):\n",
        "    \"\"\"\n",
        "    滑动窗口创建 X, y，并划分训练集和验证集（默认80/20）\n",
        "    \"\"\"\n",
        "    data = df.drop(columns=['ID']).values.astype(np.float32)\n",
        "    scaler = StandardScaler()\n",
        "    data = scaler.fit_transform(data)\n",
        "\n",
        "    X_list, y_list = [], []\n",
        "    for row in data:\n",
        "        for i in range(len(row) - window_size - forecast_horizon + 1):\n",
        "            X_list.append(row[i:i + window_size])\n",
        "            y_list.append(row[i + window_size + forecast_horizon - 1])\n",
        "\n",
        "    X = np.array(X_list)\n",
        "    y = np.array(y_list)\n",
        "\n",
        "    if split_val:\n",
        "        val_size = int(len(X) * val_ratio)\n",
        "        return (X[val_size:], y[val_size:], X[:val_size], y[:val_size], scaler)\n",
        "    else:\n",
        "        return X, y, scaler\n"
      ],
      "metadata": {
        "id": "e3JmGOUL7HHk"
      },
      "execution_count": 13,
      "outputs": []
    },
    {
      "cell_type": "code",
      "source": [
        "class GenericRNN(nn.Module):\n",
        "    def __init__(self, model_type, input_size, hidden_size, num_layers, dropout):\n",
        "        super(GenericRNN, self).__init__()\n",
        "        self.model_type = model_type\n",
        "\n",
        "        if model_type == 'RNN':\n",
        "            self.rnn = nn.RNN(input_size, hidden_size, num_layers,\n",
        "                              batch_first=True, dropout=dropout)\n",
        "        elif model_type == 'LSTM':\n",
        "            self.rnn = nn.LSTM(input_size, hidden_size, num_layers,\n",
        "                               batch_first=True, dropout=dropout)\n",
        "        else:\n",
        "            raise ValueError(\"Unsupported model type\")\n",
        "\n",
        "        self.fc = nn.Linear(hidden_size, 1)\n",
        "\n",
        "    def forward(self, x):\n",
        "        if self.model_type == 'RNN':\n",
        "            out, _ = self.rnn(x)\n",
        "        else:\n",
        "            out, _ = self.rnn(x)\n",
        "        return self.fc(out[:, -1, :])\n"
      ],
      "metadata": {
        "id": "H_NGw1B-7IGi"
      },
      "execution_count": 22,
      "outputs": []
    },
    {
      "cell_type": "code",
      "source": [
        "def objective(trial):\n",
        "    window_size = trial.suggest_int(\"window_size\", 20, 50)\n",
        "    hidden_size = trial.suggest_int(\"hidden_size\", 32, 128)\n",
        "    num_layers = trial.suggest_int(\"num_layers\", 1, 3)\n",
        "    dropout = trial.suggest_float(\"dropout\", 0.0, 0.5)\n",
        "    lr = trial.suggest_float(\"lr\", 1e-4, 1e-2, log=True)\n",
        "    batch_size = trial.suggest_categorical(\"batch_size\", [32, 64])\n",
        "    model_type = trial.suggest_categorical(\"model_type\", [\"RNN\", \"LSTM\"])\n",
        "\n",
        "    # 获取划分后的训练集和验证集\n",
        "    X_train, y_train, X_val, y_val, _ = preprocess_data(train_df, window_size, split_val=True)\n",
        "\n",
        "    # 转成 Tensor\n",
        "    X_train_tensor = torch.tensor(X_train).unsqueeze(-1)\n",
        "    y_train_tensor = torch.tensor(y_train).unsqueeze(-1)\n",
        "    X_val_tensor = torch.tensor(X_val).unsqueeze(-1)\n",
        "    y_val_tensor = torch.tensor(y_val).unsqueeze(-1)\n",
        "\n",
        "    train_ds = TensorDataset(X_train_tensor, y_train_tensor)\n",
        "    val_ds = TensorDataset(X_val_tensor, y_val_tensor)\n",
        "\n",
        "    train_loader = DataLoader(train_ds, batch_size=batch_size, shuffle=True)\n",
        "    val_loader = DataLoader(val_ds, batch_size=batch_size)\n",
        "\n",
        "    device = torch.device(\"cuda\" if torch.cuda.is_available() else \"cpu\")\n",
        "\n",
        "    model = GenericRNN(model_type, 1, hidden_size, num_layers, dropout).to(device)\n",
        "    criterion = nn.MSELoss()\n",
        "    optimizer = torch.optim.Adam(model.parameters(), lr=lr)\n",
        "\n",
        "    # 训练\n",
        "    model.train()\n",
        "    for epoch in range(10):  # 可改 epoch\n",
        "        for xb, yb in train_loader:\n",
        "            xb, yb = xb.to(device), yb.to(device)\n",
        "            optimizer.zero_grad()\n",
        "            pred = model(xb)\n",
        "            loss = criterion(pred, yb)\n",
        "            loss.backward()\n",
        "            optimizer.step()\n",
        "\n",
        "    # 验证\n",
        "    model.eval()\n",
        "    val_preds = []\n",
        "    val_targets = []\n",
        "    with torch.no_grad():\n",
        "        for xb, yb in val_loader:\n",
        "            xb = xb.to(device)\n",
        "            preds = model(xb).cpu().numpy()\n",
        "            val_preds.extend(preds)\n",
        "            val_targets.extend(yb.numpy())\n",
        "\n",
        "    return mean_squared_error(val_targets, val_preds)\n"
      ],
      "metadata": {
        "id": "2QTtGo7z7Pc3"
      },
      "execution_count": 9,
      "outputs": []
    },
    {
      "cell_type": "code",
      "source": [
        "study = optuna.create_study(direction=\"minimize\")\n",
        "study.optimize(objective, n_trials=10)\n",
        "print(\"Best Trial:\")\n",
        "print(study.best_trial.params)\n"
      ],
      "metadata": {
        "colab": {
          "base_uri": "https://localhost:8080/"
        },
        "id": "j-S6ercR7W-p",
        "outputId": "efa68165-0fe9-4c1c-e8c5-d71ea118191a"
      },
      "execution_count": 10,
      "outputs": [
        {
          "output_type": "stream",
          "name": "stderr",
          "text": [
            "[I 2025-03-25 01:32:09,299] A new study created in memory with name: no-name-6c9b6c0a-7ac4-45f8-b56a-a428c476ff48\n",
            "[I 2025-03-25 01:47:55,437] Trial 0 finished with value: 1.0913966584042551 and parameters: {'window_size': 24, 'hidden_size': 42, 'num_layers': 2, 'dropout': 0.42161524244040866, 'lr': 0.0047430020260399944, 'batch_size': 32, 'model_type': 'LSTM'}. Best is trial 0 with value: 1.0913966584042551.\n",
            "/usr/local/lib/python3.11/dist-packages/torch/nn/modules/rnn.py:123: UserWarning: dropout option adds dropout after all but last recurrent layer, so non-zero dropout expects num_layers greater than 1, but got dropout=0.3356856006445195 and num_layers=1\n",
            "  warnings.warn(\n",
            "[I 2025-03-25 01:55:12,098] Trial 1 finished with value: 1.0911392836883886 and parameters: {'window_size': 50, 'hidden_size': 84, 'num_layers': 1, 'dropout': 0.3356856006445195, 'lr': 0.0003488004737571631, 'batch_size': 64, 'model_type': 'LSTM'}. Best is trial 1 with value: 1.0911392836883886.\n",
            "[I 2025-03-25 02:02:29,603] Trial 2 finished with value: 1.0933844985662575 and parameters: {'window_size': 28, 'hidden_size': 56, 'num_layers': 2, 'dropout': 0.3967043513654108, 'lr': 0.000713013600415792, 'batch_size': 64, 'model_type': 'RNN'}. Best is trial 1 with value: 1.0911392836883886.\n",
            "[I 2025-03-25 02:17:57,860] Trial 3 finished with value: 1.0903412456262176 and parameters: {'window_size': 43, 'hidden_size': 56, 'num_layers': 2, 'dropout': 0.3997308511086487, 'lr': 0.0016642379135249066, 'batch_size': 32, 'model_type': 'LSTM'}. Best is trial 3 with value: 1.0903412456262176.\n",
            "[I 2025-03-25 02:28:02,113] Trial 4 finished with value: 1.0912354737042083 and parameters: {'window_size': 39, 'hidden_size': 97, 'num_layers': 3, 'dropout': 0.3884232757238811, 'lr': 0.003439227290653808, 'batch_size': 64, 'model_type': 'LSTM'}. Best is trial 3 with value: 1.0903412456262176.\n",
            "[I 2025-03-25 02:43:26,690] Trial 5 finished with value: 1.0907903793346914 and parameters: {'window_size': 31, 'hidden_size': 69, 'num_layers': 2, 'dropout': 0.29514377226464444, 'lr': 0.000123210961942474, 'batch_size': 32, 'model_type': 'LSTM'}. Best is trial 3 with value: 1.0903412456262176.\n",
            "[I 2025-03-25 02:50:41,153] Trial 6 finished with value: 1.0908889482202893 and parameters: {'window_size': 40, 'hidden_size': 89, 'num_layers': 2, 'dropout': 0.3187849571273957, 'lr': 0.00015272870023846035, 'batch_size': 64, 'model_type': 'RNN'}. Best is trial 3 with value: 1.0903412456262176.\n",
            "/usr/local/lib/python3.11/dist-packages/torch/nn/modules/rnn.py:123: UserWarning: dropout option adds dropout after all but last recurrent layer, so non-zero dropout expects num_layers greater than 1, but got dropout=0.3564009963253666 and num_layers=1\n",
            "  warnings.warn(\n",
            "[I 2025-03-25 03:03:52,108] Trial 7 finished with value: 1.0907507541542045 and parameters: {'window_size': 50, 'hidden_size': 124, 'num_layers': 1, 'dropout': 0.3564009963253666, 'lr': 0.00019298397064653128, 'batch_size': 32, 'model_type': 'LSTM'}. Best is trial 3 with value: 1.0903412456262176.\n",
            "[I 2025-03-25 03:18:26,668] Trial 8 finished with value: 1.1005970488620835 and parameters: {'window_size': 39, 'hidden_size': 40, 'num_layers': 3, 'dropout': 0.13516638517746143, 'lr': 0.002530839899072352, 'batch_size': 32, 'model_type': 'RNN'}. Best is trial 3 with value: 1.0903412456262176.\n",
            "[I 2025-03-25 03:25:44,354] Trial 9 finished with value: 1.091185117825491 and parameters: {'window_size': 20, 'hidden_size': 114, 'num_layers': 2, 'dropout': 0.3018879306815427, 'lr': 0.004967672057741692, 'batch_size': 64, 'model_type': 'RNN'}. Best is trial 3 with value: 1.0903412456262176.\n"
          ]
        },
        {
          "output_type": "stream",
          "name": "stdout",
          "text": [
            "Best Trial:\n",
            "{'window_size': 43, 'hidden_size': 56, 'num_layers': 2, 'dropout': 0.3997308511086487, 'lr': 0.0016642379135249066, 'batch_size': 32, 'model_type': 'LSTM'}\n"
          ]
        }
      ]
    },
    {
      "cell_type": "code",
      "source": [
        "study = optuna.create_study(direction=\"minimize\")\n",
        "study.optimize(objective, n_trials=20)  # 可调试次数，例如50\n",
        "print(\"Best Trial:\")\n",
        "print(study.best_trial.params)\n"
      ],
      "metadata": {
        "colab": {
          "base_uri": "https://localhost:8080/"
        },
        "id": "MdYqVW2i78aK",
        "outputId": "6876463e-f964-435b-b146-ef8187b9187e"
      },
      "execution_count": 11,
      "outputs": [
        {
          "output_type": "stream",
          "name": "stderr",
          "text": [
            "[I 2025-03-25 03:25:44,378] A new study created in memory with name: no-name-949cb6a6-c5db-4d6f-a459-25bf025d340b\n",
            "[I 2025-03-25 03:34:01,648] Trial 0 finished with value: 1.0910671728514554 and parameters: {'window_size': 35, 'hidden_size': 55, 'num_layers': 2, 'dropout': 0.4411309537544822, 'lr': 0.0006427181475330776, 'batch_size': 64, 'model_type': 'LSTM'}. Best is trial 0 with value: 1.0910671728514554.\n",
            "/usr/local/lib/python3.11/dist-packages/torch/nn/modules/rnn.py:123: UserWarning: dropout option adds dropout after all but last recurrent layer, so non-zero dropout expects num_layers greater than 1, but got dropout=0.1443559102226365 and num_layers=1\n",
            "  warnings.warn(\n",
            "[I 2025-03-25 03:41:11,770] Trial 1 finished with value: 1.090882244988065 and parameters: {'window_size': 26, 'hidden_size': 94, 'num_layers': 1, 'dropout': 0.1443559102226365, 'lr': 0.0002682235799356061, 'batch_size': 64, 'model_type': 'LSTM'}. Best is trial 1 with value: 1.090882244988065.\n",
            "[I 2025-03-25 03:54:34,030] Trial 2 finished with value: 1.097545287966253 and parameters: {'window_size': 50, 'hidden_size': 76, 'num_layers': 2, 'dropout': 0.09146849108358884, 'lr': 0.003990406117742016, 'batch_size': 32, 'model_type': 'RNN'}. Best is trial 1 with value: 1.090882244988065.\n",
            "[I 2025-03-25 04:09:06,366] Trial 3 finished with value: 1.0915073215784055 and parameters: {'window_size': 37, 'hidden_size': 99, 'num_layers': 3, 'dropout': 0.06429515627276833, 'lr': 0.0003429225619373174, 'batch_size': 32, 'model_type': 'RNN'}. Best is trial 1 with value: 1.090882244988065.\n",
            "/usr/local/lib/python3.11/dist-packages/torch/nn/modules/rnn.py:123: UserWarning: dropout option adds dropout after all but last recurrent layer, so non-zero dropout expects num_layers greater than 1, but got dropout=0.2880270631667258 and num_layers=1\n",
            "  warnings.warn(\n",
            "[I 2025-03-25 04:22:07,980] Trial 4 finished with value: 1.0906365215397615 and parameters: {'window_size': 21, 'hidden_size': 61, 'num_layers': 1, 'dropout': 0.2880270631667258, 'lr': 0.0002348721497553097, 'batch_size': 32, 'model_type': 'LSTM'}. Best is trial 4 with value: 1.0906365215397615.\n",
            "[I 2025-03-25 04:39:39,571] Trial 5 finished with value: 1.0912564766725759 and parameters: {'window_size': 32, 'hidden_size': 67, 'num_layers': 3, 'dropout': 0.4377750607855452, 'lr': 0.0023562849522403813, 'batch_size': 32, 'model_type': 'LSTM'}. Best is trial 4 with value: 1.0906365215397615.\n",
            "[I 2025-03-25 04:52:52,026] Trial 6 finished with value: 1.090778430015393 and parameters: {'window_size': 28, 'hidden_size': 47, 'num_layers': 2, 'dropout': 0.2681834936404121, 'lr': 0.00011619671332789397, 'batch_size': 32, 'model_type': 'RNN'}. Best is trial 4 with value: 1.0906365215397615.\n",
            "/usr/local/lib/python3.11/dist-packages/torch/nn/modules/rnn.py:123: UserWarning: dropout option adds dropout after all but last recurrent layer, so non-zero dropout expects num_layers greater than 1, but got dropout=0.4148422337443821 and num_layers=1\n",
            "  warnings.warn(\n",
            "[I 2025-03-25 05:00:02,142] Trial 7 finished with value: 1.090461156244422 and parameters: {'window_size': 23, 'hidden_size': 60, 'num_layers': 1, 'dropout': 0.4148422337443821, 'lr': 0.0017535115658193678, 'batch_size': 64, 'model_type': 'LSTM'}. Best is trial 7 with value: 1.090461156244422.\n",
            "[I 2025-03-25 05:07:57,117] Trial 8 finished with value: 1.0904991578862437 and parameters: {'window_size': 46, 'hidden_size': 52, 'num_layers': 3, 'dropout': 0.4151087270864985, 'lr': 0.00022354830877317162, 'batch_size': 64, 'model_type': 'RNN'}. Best is trial 7 with value: 1.090461156244422.\n",
            "[I 2025-03-25 05:15:16,003] Trial 9 finished with value: 1.0907467040166043 and parameters: {'window_size': 41, 'hidden_size': 72, 'num_layers': 2, 'dropout': 0.06491778355841915, 'lr': 0.00012892451459514695, 'batch_size': 64, 'model_type': 'RNN'}. Best is trial 7 with value: 1.090461156244422.\n",
            "/usr/local/lib/python3.11/dist-packages/torch/nn/modules/rnn.py:123: UserWarning: dropout option adds dropout after all but last recurrent layer, so non-zero dropout expects num_layers greater than 1, but got dropout=0.3299423752125377 and num_layers=1\n",
            "  warnings.warn(\n",
            "[I 2025-03-25 05:22:27,762] Trial 10 finished with value: 1.0907512078572463 and parameters: {'window_size': 20, 'hidden_size': 126, 'num_layers': 1, 'dropout': 0.3299423752125377, 'lr': 0.00958263210233237, 'batch_size': 64, 'model_type': 'LSTM'}. Best is trial 7 with value: 1.090461156244422.\n",
            "[I 2025-03-25 05:30:20,581] Trial 11 finished with value: 1.0928822005257606 and parameters: {'window_size': 47, 'hidden_size': 38, 'num_layers': 3, 'dropout': 0.37530471024700884, 'lr': 0.001122867578666044, 'batch_size': 64, 'model_type': 'RNN'}. Best is trial 7 with value: 1.090461156244422.\n",
            "[I 2025-03-25 05:39:41,416] Trial 12 finished with value: 1.0905945483939234 and parameters: {'window_size': 42, 'hidden_size': 40, 'num_layers': 3, 'dropout': 0.46819735081315805, 'lr': 0.0012330548347279494, 'batch_size': 64, 'model_type': 'LSTM'}. Best is trial 7 with value: 1.090461156244422.\n",
            "/usr/local/lib/python3.11/dist-packages/torch/nn/modules/rnn.py:123: UserWarning: dropout option adds dropout after all but last recurrent layer, so non-zero dropout expects num_layers greater than 1, but got dropout=0.1890417236739499 and num_layers=1\n",
            "  warnings.warn(\n",
            "[I 2025-03-25 05:46:15,324] Trial 13 finished with value: 1.0968185850745644 and parameters: {'window_size': 44, 'hidden_size': 92, 'num_layers': 1, 'dropout': 0.1890417236739499, 'lr': 0.000628576798952983, 'batch_size': 64, 'model_type': 'RNN'}. Best is trial 7 with value: 1.090461156244422.\n",
            "[I 2025-03-25 05:54:35,161] Trial 14 finished with value: 1.0907085268273586 and parameters: {'window_size': 28, 'hidden_size': 52, 'num_layers': 2, 'dropout': 0.37583315885521257, 'lr': 0.0023930314181026513, 'batch_size': 64, 'model_type': 'LSTM'}. Best is trial 7 with value: 1.090461156244422.\n",
            "/usr/local/lib/python3.11/dist-packages/torch/nn/modules/rnn.py:123: UserWarning: dropout option adds dropout after all but last recurrent layer, so non-zero dropout expects num_layers greater than 1, but got dropout=0.4944503267041247 and num_layers=1\n",
            "  warnings.warn(\n",
            "[I 2025-03-25 06:01:09,880] Trial 15 finished with value: 1.0908328758349468 and parameters: {'window_size': 36, 'hidden_size': 33, 'num_layers': 1, 'dropout': 0.4944503267041247, 'lr': 0.0005539465662608959, 'batch_size': 64, 'model_type': 'RNN'}. Best is trial 7 with value: 1.090461156244422.\n",
            "[I 2025-03-25 06:08:59,849] Trial 16 finished with value: 1.0910756961857349 and parameters: {'window_size': 24, 'hidden_size': 84, 'num_layers': 3, 'dropout': 0.3771542238930626, 'lr': 0.001909682085304148, 'batch_size': 64, 'model_type': 'RNN'}. Best is trial 7 with value: 1.090461156244422.\n",
            "[I 2025-03-25 06:17:24,335] Trial 17 finished with value: 1.091731295303562 and parameters: {'window_size': 33, 'hidden_size': 116, 'num_layers': 2, 'dropout': 0.2153656820138708, 'lr': 0.005382413520074105, 'batch_size': 64, 'model_type': 'LSTM'}. Best is trial 7 with value: 1.090461156244422.\n",
            "/usr/local/lib/python3.11/dist-packages/torch/nn/modules/rnn.py:123: UserWarning: dropout option adds dropout after all but last recurrent layer, so non-zero dropout expects num_layers greater than 1, but got dropout=0.31374326719530327 and num_layers=1\n",
            "  warnings.warn(\n",
            "[I 2025-03-25 06:24:37,165] Trial 18 finished with value: 1.0908694034546635 and parameters: {'window_size': 39, 'hidden_size': 57, 'num_layers': 1, 'dropout': 0.31374326719530327, 'lr': 0.00019687374010364517, 'batch_size': 64, 'model_type': 'LSTM'}. Best is trial 7 with value: 1.090461156244422.\n",
            "[I 2025-03-25 06:32:30,895] Trial 19 finished with value: 1.0950157246245114 and parameters: {'window_size': 50, 'hidden_size': 66, 'num_layers': 3, 'dropout': 0.4153177021900914, 'lr': 0.0004140097303060031, 'batch_size': 64, 'model_type': 'RNN'}. Best is trial 7 with value: 1.090461156244422.\n"
          ]
        },
        {
          "output_type": "stream",
          "name": "stdout",
          "text": [
            "Best Trial:\n",
            "{'window_size': 23, 'hidden_size': 60, 'num_layers': 1, 'dropout': 0.4148422337443821, 'lr': 0.0017535115658193678, 'batch_size': 64, 'model_type': 'LSTM'}\n"
          ]
        }
      ]
    },
    {
      "cell_type": "code",
      "source": [
        "import torch\n",
        "from torch.utils.data import DataLoader, TensorDataset\n",
        "\n",
        "# ✅ 使用 GPU（如果可用）\n",
        "device = torch.device(\"cuda\" if torch.cuda.is_available() else \"cpu\")\n",
        "print(\"✅ 当前使用设备:\", device)\n",
        "\n",
        "# ✅ 获取最佳参数\n",
        "best_params = study.best_trial.params\n",
        "window_size = best_params['window_size']\n",
        "num_layers = best_params['num_layers']\n",
        "dropout = best_params['dropout'] if num_layers > 1 else 0.0\n",
        "\n",
        "# ✅ 准备全部训练数据（不划分验证集）\n",
        "X_all, y_all, scaler = preprocess_data(train_df, window_size, split_val=False)\n",
        "X_tensor = torch.tensor(X_all).unsqueeze(-1).float().to(device)\n",
        "y_tensor = torch.tensor(y_all).unsqueeze(-1).float().to(device)\n",
        "\n",
        "# ✅ 构建模型\n",
        "model = GenericRNN(\n",
        "    model_type=best_params['model_type'],\n",
        "    input_size=1,\n",
        "    hidden_size=best_params['hidden_size'],\n",
        "    num_layers=num_layers,\n",
        "    dropout=dropout\n",
        ").to(device)\n",
        "\n",
        "# ✅ 设置优化器与损失函数\n",
        "optimizer = torch.optim.Adam(model.parameters(), lr=best_params['lr'])\n",
        "criterion = nn.MSELoss()\n",
        "loader = DataLoader(TensorDataset(X_tensor, y_tensor), batch_size=best_params['batch_size'], shuffle=True)\n",
        "\n",
        "# ✅ 训练模型：100轮\n",
        "model.train()\n",
        "for epoch in range(100):\n",
        "    epoch_loss = 0.0\n",
        "    for xb, yb in loader:\n",
        "        xb, yb = xb.to(device), yb.to(device)\n",
        "        optimizer.zero_grad()\n",
        "        pred = model(xb)\n",
        "        loss = criterion(pred, yb)\n",
        "        loss.backward()\n",
        "        optimizer.step()\n",
        "        epoch_loss += loss.item()\n",
        "    print(f\"Epoch {epoch+1}/100 - Loss: {epoch_loss / len(loader):.6f}\")\n"
      ],
      "metadata": {
        "colab": {
          "base_uri": "https://localhost:8080/"
        },
        "id": "lpGW16Jr8DXG",
        "outputId": "fbac6ad6-d417-48d9-e0be-e10bf468fd30"
      },
      "execution_count": 17,
      "outputs": [
        {
          "output_type": "stream",
          "name": "stdout",
          "text": [
            "✅ 当前使用设备: cuda\n",
            "Epoch 1/100 - Loss: 1.000054\n",
            "Epoch 2/100 - Loss: 0.999943\n",
            "Epoch 3/100 - Loss: 0.999895\n",
            "Epoch 4/100 - Loss: 0.999899\n",
            "Epoch 5/100 - Loss: 0.999886\n",
            "Epoch 6/100 - Loss: 0.999877\n",
            "Epoch 7/100 - Loss: 0.999815\n",
            "Epoch 8/100 - Loss: 0.999806\n",
            "Epoch 9/100 - Loss: 0.999867\n",
            "Epoch 10/100 - Loss: 0.999837\n",
            "Epoch 11/100 - Loss: 0.999827\n",
            "Epoch 12/100 - Loss: 0.999805\n",
            "Epoch 13/100 - Loss: 0.999780\n",
            "Epoch 14/100 - Loss: 0.999761\n",
            "Epoch 15/100 - Loss: 0.999740\n",
            "Epoch 16/100 - Loss: 0.999709\n",
            "Epoch 17/100 - Loss: 0.999719\n",
            "Epoch 18/100 - Loss: 0.999709\n",
            "Epoch 19/100 - Loss: 0.999773\n",
            "Epoch 20/100 - Loss: 0.999680\n",
            "Epoch 21/100 - Loss: 0.999600\n",
            "Epoch 22/100 - Loss: 0.999650\n",
            "Epoch 23/100 - Loss: 0.999632\n",
            "Epoch 24/100 - Loss: 0.999579\n",
            "Epoch 25/100 - Loss: 0.999536\n",
            "Epoch 26/100 - Loss: 0.999469\n",
            "Epoch 27/100 - Loss: 0.999536\n",
            "Epoch 28/100 - Loss: 0.999446\n",
            "Epoch 29/100 - Loss: 0.999450\n",
            "Epoch 30/100 - Loss: 0.999408\n",
            "Epoch 31/100 - Loss: 0.999315\n",
            "Epoch 32/100 - Loss: 0.999345\n",
            "Epoch 33/100 - Loss: 0.999411\n",
            "Epoch 34/100 - Loss: 0.999382\n",
            "Epoch 35/100 - Loss: 0.999301\n",
            "Epoch 36/100 - Loss: 0.999385\n",
            "Epoch 37/100 - Loss: 0.999222\n",
            "Epoch 38/100 - Loss: 0.999264\n",
            "Epoch 39/100 - Loss: 0.999220\n",
            "Epoch 40/100 - Loss: 0.999133\n",
            "Epoch 41/100 - Loss: 0.999187\n",
            "Epoch 42/100 - Loss: 0.999275\n",
            "Epoch 43/100 - Loss: 0.999115\n",
            "Epoch 44/100 - Loss: 0.999255\n",
            "Epoch 45/100 - Loss: 0.999292\n",
            "Epoch 46/100 - Loss: 0.999496\n",
            "Epoch 47/100 - Loss: 0.999256\n",
            "Epoch 48/100 - Loss: 0.999160\n",
            "Epoch 49/100 - Loss: 0.999198\n",
            "Epoch 50/100 - Loss: 0.999066\n",
            "Epoch 51/100 - Loss: 0.999084\n",
            "Epoch 52/100 - Loss: 0.998881\n",
            "Epoch 53/100 - Loss: 0.998890\n",
            "Epoch 54/100 - Loss: 0.998946\n",
            "Epoch 55/100 - Loss: 0.998713\n",
            "Epoch 56/100 - Loss: 0.998860\n",
            "Epoch 57/100 - Loss: 0.999019\n",
            "Epoch 58/100 - Loss: 0.999066\n",
            "Epoch 59/100 - Loss: 0.998976\n",
            "Epoch 60/100 - Loss: 0.998870\n",
            "Epoch 61/100 - Loss: 0.998810\n",
            "Epoch 62/100 - Loss: 0.998861\n",
            "Epoch 63/100 - Loss: 0.998873\n",
            "Epoch 64/100 - Loss: 0.998606\n",
            "Epoch 65/100 - Loss: 0.998545\n",
            "Epoch 66/100 - Loss: 0.998697\n",
            "Epoch 67/100 - Loss: 0.998830\n",
            "Epoch 68/100 - Loss: 0.998702\n",
            "Epoch 69/100 - Loss: 0.998124\n",
            "Epoch 70/100 - Loss: 0.998310\n",
            "Epoch 71/100 - Loss: 0.998322\n",
            "Epoch 72/100 - Loss: 0.998395\n",
            "Epoch 73/100 - Loss: 0.998486\n",
            "Epoch 74/100 - Loss: 0.998331\n",
            "Epoch 75/100 - Loss: 0.998384\n",
            "Epoch 76/100 - Loss: 0.998670\n",
            "Epoch 77/100 - Loss: 0.998490\n",
            "Epoch 78/100 - Loss: 0.998264\n",
            "Epoch 79/100 - Loss: 0.998411\n",
            "Epoch 80/100 - Loss: 0.998553\n",
            "Epoch 81/100 - Loss: 0.998347\n",
            "Epoch 82/100 - Loss: 0.998177\n",
            "Epoch 83/100 - Loss: 0.998512\n",
            "Epoch 84/100 - Loss: 0.998474\n",
            "Epoch 85/100 - Loss: 0.998427\n",
            "Epoch 86/100 - Loss: 0.998468\n",
            "Epoch 87/100 - Loss: 0.998513\n",
            "Epoch 88/100 - Loss: 0.998419\n",
            "Epoch 89/100 - Loss: 0.998358\n",
            "Epoch 90/100 - Loss: 0.998385\n",
            "Epoch 91/100 - Loss: 0.998338\n",
            "Epoch 92/100 - Loss: 0.998969\n",
            "Epoch 93/100 - Loss: 0.998484\n",
            "Epoch 94/100 - Loss: 0.998678\n",
            "Epoch 95/100 - Loss: 0.998364\n",
            "Epoch 96/100 - Loss: 0.998285\n",
            "Epoch 97/100 - Loss: 0.998506\n",
            "Epoch 98/100 - Loss: 0.998633\n",
            "Epoch 99/100 - Loss: 0.998406\n",
            "Epoch 100/100 - Loss: 0.998474\n"
          ]
        }
      ]
    },
    {
      "cell_type": "code",
      "source": [
        "from sklearn.preprocessing import StandardScaler\n",
        "import numpy as np\n",
        "\n",
        "def preprocess_data(df, window_size=30, forecast_horizon=1, split_val=True, val_ratio=0.2):\n",
        "    \"\"\"\n",
        "    滑动窗口创建 X, y，并划分训练集和验证集（默认80/20）\n",
        "    \"\"\"\n",
        "    data = df.drop(columns=['ID']).values.astype(np.float32)\n",
        "    scaler = StandardScaler()\n",
        "    data = scaler.fit_transform(data)\n",
        "\n",
        "    X_list, y_list = [], []\n",
        "    for row in data:\n",
        "        for i in range(len(row) - window_size - forecast_horizon + 1):\n",
        "            X_list.append(row[i:i + window_size])\n",
        "            y_list.append(row[i + window_size + forecast_horizon - 1])\n",
        "\n",
        "    X = np.array(X_list)\n",
        "    y = np.array(y_list)\n",
        "\n",
        "    if split_val:\n",
        "        val_size = int(len(X) * val_ratio)\n",
        "        return (X[val_size:], y[val_size:], X[:val_size], y[:val_size], scaler)\n",
        "    else:\n",
        "        return X, y, scaler\n"
      ],
      "metadata": {
        "id": "qgBEo7bQ0MV-"
      },
      "execution_count": 16,
      "outputs": []
    },
    {
      "cell_type": "code",
      "source": [
        "# 如果之前没保留 scaler，需要重新获取\n",
        "_, _, scaler = preprocess_data(train_df, window_size, split_val=False)\n"
      ],
      "metadata": {
        "id": "bCEgIDVN32ZS"
      },
      "execution_count": 24,
      "outputs": []
    },
    {
      "cell_type": "code",
      "source": [
        "# 准备输入数据（取每家公司最后一段）\n",
        "final_data = train_df.drop(columns=['ID']).values.astype(np.float32)\n",
        "final_data_scaled = scaler.transform(final_data)\n",
        "\n",
        "# 模型预测\n",
        "preds = []\n",
        "model.eval()\n",
        "with torch.no_grad():\n",
        "    for row in final_data_scaled:\n",
        "        seq = torch.tensor(row[-window_size:]).unsqueeze(0).unsqueeze(-1).float().to(device)\n",
        "        pred = model(seq).item()\n",
        "        preds.append(pred)\n"
      ],
      "metadata": {
        "id": "5MP92szK345c"
      },
      "execution_count": 25,
      "outputs": []
    },
    {
      "cell_type": "code",
      "source": [
        "# 读取原始提交模板\n",
        "submission_df = pd.read_csv('sample_submission.csv')\n",
        "\n",
        "# 填入预测值\n",
        "submission_df['TARGET'] = preds\n",
        "\n",
        "# 保存提交文件\n",
        "submission_df.to_csv('submission.csv', index=False)\n",
        "print(\"✅ 预测完成，submission.csv 已保存，格式无误！\")\n"
      ],
      "metadata": {
        "colab": {
          "base_uri": "https://localhost:8080/"
        },
        "id": "jP9X4YWt3719",
        "outputId": "493a63a8-3274-4aee-bce5-e3926c586249"
      },
      "execution_count": 26,
      "outputs": [
        {
          "output_type": "stream",
          "name": "stdout",
          "text": [
            "✅ 预测完成，submission.csv 已保存，格式无误！\n"
          ]
        }
      ]
    },
    {
      "cell_type": "code",
      "source": [
        "# 构建符合要求的 ID 格式\n",
        "company_ids = [f\"company_{i}\" for i in range(442)]\n",
        "\n",
        "# 构建提交 DataFrame\n",
        "submission_df = pd.DataFrame({\n",
        "    'ID': company_ids,\n",
        "    'value': preds\n",
        "})\n",
        "\n",
        "# 保存为 CSV 文件\n",
        "submission_df.to_csv('submission.csv', index=False)\n",
        "print(\"✅ 已按老师要求保存为 submission.csv（ID: company_x, 列名: ID, value）\")\n"
      ],
      "metadata": {
        "colab": {
          "base_uri": "https://localhost:8080/"
        },
        "id": "TIRmt_Fc4bew",
        "outputId": "575b0d9f-84f3-4c2b-f43b-c4c7681f32f2"
      },
      "execution_count": 28,
      "outputs": [
        {
          "output_type": "stream",
          "name": "stdout",
          "text": [
            "✅ 已按老师要求保存为 submission.csv（ID: company_x, 列名: ID, value）\n"
          ]
        }
      ]
    },
    {
      "cell_type": "code",
      "source": [
        "from google.colab import files\n",
        "files.download('submission.csv')\n",
        "\n"
      ],
      "metadata": {
        "colab": {
          "base_uri": "https://localhost:8080/",
          "height": 17
        },
        "id": "Fi-K5pCI8LI4",
        "outputId": "15577ef7-c7aa-404c-cd3a-5811b721ff19"
      },
      "execution_count": 29,
      "outputs": [
        {
          "output_type": "display_data",
          "data": {
            "text/plain": [
              "<IPython.core.display.Javascript object>"
            ],
            "application/javascript": [
              "\n",
              "    async function download(id, filename, size) {\n",
              "      if (!google.colab.kernel.accessAllowed) {\n",
              "        return;\n",
              "      }\n",
              "      const div = document.createElement('div');\n",
              "      const label = document.createElement('label');\n",
              "      label.textContent = `Downloading \"${filename}\": `;\n",
              "      div.appendChild(label);\n",
              "      const progress = document.createElement('progress');\n",
              "      progress.max = size;\n",
              "      div.appendChild(progress);\n",
              "      document.body.appendChild(div);\n",
              "\n",
              "      const buffers = [];\n",
              "      let downloaded = 0;\n",
              "\n",
              "      const channel = await google.colab.kernel.comms.open(id);\n",
              "      // Send a message to notify the kernel that we're ready.\n",
              "      channel.send({})\n",
              "\n",
              "      for await (const message of channel.messages) {\n",
              "        // Send a message to notify the kernel that we're ready.\n",
              "        channel.send({})\n",
              "        if (message.buffers) {\n",
              "          for (const buffer of message.buffers) {\n",
              "            buffers.push(buffer);\n",
              "            downloaded += buffer.byteLength;\n",
              "            progress.value = downloaded;\n",
              "          }\n",
              "        }\n",
              "      }\n",
              "      const blob = new Blob(buffers, {type: 'application/binary'});\n",
              "      const a = document.createElement('a');\n",
              "      a.href = window.URL.createObjectURL(blob);\n",
              "      a.download = filename;\n",
              "      div.appendChild(a);\n",
              "      a.click();\n",
              "      div.remove();\n",
              "    }\n",
              "  "
            ]
          },
          "metadata": {}
        },
        {
          "output_type": "display_data",
          "data": {
            "text/plain": [
              "<IPython.core.display.Javascript object>"
            ],
            "application/javascript": [
              "download(\"download_a62f4a7e-5024-423d-8883-18034122cdc9\", \"submission.csv\", 14574)"
            ]
          },
          "metadata": {}
        }
      ]
    }
  ]
}